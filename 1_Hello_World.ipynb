{
  "nbformat": 4,
  "nbformat_minor": 0,
  "metadata": {
    "colab": {
      "name": "1. Hello World.ipynb",
      "provenance": [],
      "authorship_tag": "ABX9TyO5U5GL+O4+WtKMztPezqbm",
      "include_colab_link": true
    },
    "kernelspec": {
      "name": "python3",
      "display_name": "Python 3"
    }
  },
  "cells": [
    {
      "cell_type": "markdown",
      "metadata": {
        "id": "view-in-github",
        "colab_type": "text"
      },
      "source": [
        "<a href=\"https://colab.research.google.com/github/satyaabdul/Introduction-to-Python/blob/master/1_Hello_World.ipynb\" target=\"_parent\"><img src=\"https://colab.research.google.com/assets/colab-badge.svg\" alt=\"Open In Colab\"/></a>"
      ]
    },
    {
      "cell_type": "markdown",
      "metadata": {
        "id": "TWzFM0tR9e4k",
        "colab_type": "text"
      },
      "source": [
        "## **Wellcome to**\n",
        "\n",
        "#**\"Introduction to Python\"**"
      ]
    },
    {
      "cell_type": "code",
      "metadata": {
        "id": "rDqs0Xlsh7FK",
        "colab_type": "code",
        "outputId": "27e0418f-36f4-4894-819e-b6396560ae71",
        "colab": {
          "base_uri": "https://localhost:8080/",
          "height": 34
        }
      },
      "source": [
        "\"\"\"\n",
        "use the command  \n",
        "print(\"[string]\")\n",
        "to display text\n",
        "The string is placed between quotation marks inside brackets (\"[string]\")\n",
        "\"\"\"\n",
        "\n",
        "\n",
        "print(\"Hello World...!\")"
      ],
      "execution_count": 3,
      "outputs": [
        {
          "output_type": "stream",
          "text": [
            "Hello World...!\n"
          ],
          "name": "stdout"
        }
      ]
    },
    {
      "cell_type": "markdown",
      "metadata": {
        "id": "76q-_Pfz9qzl",
        "colab_type": "text"
      },
      "source": [
        "**Python Tips**\n",
        "\n"
      ]
    },
    {
      "cell_type": "markdown",
      "metadata": {
        "id": "IqklLeWd-dVQ",
        "colab_type": "text"
      },
      "source": [
        "**comments**"
      ]
    },
    {
      "cell_type": "code",
      "metadata": {
        "id": "FuNOoPT4kDCG",
        "colab_type": "code",
        "outputId": "e3b8e986-39eb-4772-d538-2b8f930b4f26",
        "colab": {
          "base_uri": "https://localhost:8080/",
          "height": 85
        }
      },
      "source": [
        "#use hash mark  # to make a single line comment and it doesn't need to end with a hash mark\n",
        "\n",
        "print(\"sentences that begin with # will not be executed\\n\")\n",
        "\n",
        "\n",
        "\"\"\"\n",
        "use three times quotes/double quotes \n",
        "to make multi-line comments\n",
        "write triple quotation marks at the beginning or top of the sentence and at the end or bottom of a sentence\n",
        "\"\"\"\n",
        "\n",
        "print('sentences that begin and end with \"\"\" will not be executed\\n')\n"
      ],
      "execution_count": 2,
      "outputs": [
        {
          "output_type": "stream",
          "text": [
            "sentences that begin with # will not be executed\n",
            "\n",
            "sentences that begin and end with \"\"\" will not be executed\n",
            "\n"
          ],
          "name": "stdout"
        }
      ]
    },
    {
      "cell_type": "markdown",
      "metadata": {
        "id": "F6VAFvzK-wCd",
        "colab_type": "text"
      },
      "source": [
        "**Quotes (string writing)**"
      ]
    },
    {
      "cell_type": "code",
      "metadata": {
        "id": "CBv_cE3J7dJc",
        "colab_type": "code",
        "outputId": "234e41c4-9a99-4f19-ebfd-e2acce13bd75",
        "colab": {
          "base_uri": "https://localhost:8080/",
          "height": 85
        }
      },
      "source": [
        "#to write strings you can use quotes ('___') or double quotes (\"___\")\n",
        "\n",
        "print(\"double quotes are used if there are quotes ' in a sentence \\n\")\n",
        "\n",
        "print('quotes have the same function as double quotes  \" \\n')\n",
        "\n",
        "#but they cannot be used at the same time \"....' or '....\""
      ],
      "execution_count": 5,
      "outputs": [
        {
          "output_type": "stream",
          "text": [
            "double quotes are used if there are quotes ' in a sentence \n",
            "\n",
            "quotes have the same function as double quotes  \" \n",
            "\n"
          ],
          "name": "stdout"
        }
      ]
    },
    {
      "cell_type": "markdown",
      "metadata": {
        "id": "yJOZmepY-rBw",
        "colab_type": "text"
      },
      "source": [
        "**New Lines**\n"
      ]
    },
    {
      "cell_type": "code",
      "metadata": {
        "id": "8yawcxbE-iOY",
        "colab_type": "code",
        "colab": {
          "base_uri": "https://localhost:8080/",
          "height": 68
        },
        "outputId": "f8e1361d-9d5a-4243-9b12-61e4b8a9d460"
      },
      "source": [
        "#use \\n to print something in new line\n",
        "\n",
        "print('use \\nto print \\nnew line')\n",
        "\n",
        "#there are 3 line "
      ],
      "execution_count": 9,
      "outputs": [
        {
          "output_type": "stream",
          "text": [
            "use \n",
            "to print \n",
            "new line\n"
          ],
          "name": "stdout"
        }
      ]
    },
    {
      "cell_type": "markdown",
      "metadata": {
        "id": "MtSvUz2I-8ob",
        "colab_type": "text"
      },
      "source": [
        "**Multi-line Code**"
      ]
    },
    {
      "cell_type": "code",
      "metadata": {
        "id": "RFPjqhVe-a_p",
        "colab_type": "code",
        "outputId": "666b1bed-7533-4049-dfc6-1c69dcf6c0c0",
        "colab": {
          "base_uri": "https://localhost:8080/",
          "height": 34
        }
      },
      "source": [
        "\"\"\"\n",
        "if your command line is to long\n",
        "you can devide it into several lines \n",
        "use backslash ( \\ )\n",
        "then write your command in the next line\n",
        "\"\"\"\n",
        "\n",
        "print(\"this command \\\n",
        "uses multi-line code \\\n",
        "that is executed \\\n",
        "in single line command\")"
      ],
      "execution_count": 10,
      "outputs": [
        {
          "output_type": "stream",
          "text": [
            "this command uses multi-line code that is executed in single line command\n"
          ],
          "name": "stdout"
        }
      ]
    },
    {
      "cell_type": "code",
      "metadata": {
        "id": "w92ZTiVp-VgF",
        "colab_type": "code",
        "colab": {}
      },
      "source": [
        ""
      ],
      "execution_count": 0,
      "outputs": []
    }
  ]
}