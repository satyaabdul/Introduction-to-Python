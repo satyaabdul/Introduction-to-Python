{
  "nbformat": 4,
  "nbformat_minor": 0,
  "metadata": {
    "colab": {
      "name": "1. Hello World.ipynb",
      "provenance": [],
      "authorship_tag": "ABX9TyP+pRH3k+EzbsT//fyzQvlt",
      "include_colab_link": true
    },
    "kernelspec": {
      "name": "python3",
      "display_name": "Python 3"
    }
  },
  "cells": [
    {
      "cell_type": "markdown",
      "metadata": {
        "id": "view-in-github",
        "colab_type": "text"
      },
      "source": [
        "<a href=\"https://colab.research.google.com/github/satyaabdul/Introduction-to-Python/blob/master/1_Hello_World.ipynb\" target=\"_parent\"><img src=\"https://colab.research.google.com/assets/colab-badge.svg\" alt=\"Open In Colab\"/></a>"
      ]
    },
    {
      "cell_type": "markdown",
      "metadata": {
        "id": "TWzFM0tR9e4k",
        "colab_type": "text"
      },
      "source": [
        "# **Selamat datang dalam**\n",
        "\n",
        "#**\"Introduction to Python\"**"
      ]
    },
    {
      "cell_type": "code",
      "metadata": {
        "id": "rDqs0Xlsh7FK",
        "colab_type": "code",
        "outputId": "e53c999c-cd47-4a04-ec56-cdf8928e714a",
        "colab": {
          "base_uri": "https://localhost:8080/",
          "height": 34
        }
      },
      "source": [
        "\"\"\"\n",
        "gunakan perintah \n",
        "print(\"[kata/kalimat]\")\n",
        "untuk menampilkan text\n",
        "sting diletakkan diantara tanda petik (\"[string]\")\n",
        "\"\"\"\n",
        "\n",
        "print(\"Hello World...!\")"
      ],
      "execution_count": 0,
      "outputs": [
        {
          "output_type": "stream",
          "text": [
            "Hello World...!\n"
          ],
          "name": "stdout"
        }
      ]
    },
    {
      "cell_type": "markdown",
      "metadata": {
        "id": "76q-_Pfz9qzl",
        "colab_type": "text"
      },
      "source": [
        "**Python Tips**\n",
        "\n"
      ]
    },
    {
      "cell_type": "markdown",
      "metadata": {
        "id": "IqklLeWd-dVQ",
        "colab_type": "text"
      },
      "source": [
        "**Komentar**"
      ]
    },
    {
      "cell_type": "code",
      "metadata": {
        "id": "FuNOoPT4kDCG",
        "colab_type": "code",
        "outputId": "f73cd2d5-37ad-4751-ed22-b134a1efa6fd",
        "colab": {
          "base_uri": "https://localhost:8080/",
          "height": 102
        }
      },
      "source": [
        "#gunakan tagar # untuk membuat komentar single line dan tidak perlu diakhiri tagar # juga di akhir kalimat\n",
        "\n",
        "print(\"kalimat yang diawali # tidak akan di eksekusi\\n\")\n",
        "\n",
        "\"\"\"\n",
        "gunakan triple quotations/ tiga tanda petik ganda \n",
        "untuk membuat komentar multi line\n",
        "tuliskan di awal/atas baris dan di akhir/bawah baris\n",
        "\"\"\"\n",
        "\n",
        "print('kalimat yang diawali dan diakhiri \"\"\" tidak akan di eksekusi\\n')\n"
      ],
      "execution_count": 0,
      "outputs": [
        {
          "output_type": "stream",
          "text": [
            "kalimat yang diawali # tidak akan di eksekusi\n",
            "\n",
            "kalimat yang diawali dan diakhiri \"\"\" tidak akan di eksekusi\n",
            "\n",
            "gunakan  \\ n untuk ganti baris\n"
          ],
          "name": "stdout"
        }
      ]
    },
    {
      "cell_type": "markdown",
      "metadata": {
        "id": "F6VAFvzK-wCd",
        "colab_type": "text"
      },
      "source": [
        "**Tanda Petik (Penulisan String)**"
      ]
    },
    {
      "cell_type": "code",
      "metadata": {
        "id": "CBv_cE3J7dJc",
        "colab_type": "code",
        "outputId": "299d6fee-0fa6-49a5-e7a2-6dfededff1ca",
        "colab": {
          "base_uri": "https://localhost:8080/",
          "height": 85
        }
      },
      "source": [
        "#penggunaan tanda petik untuk menulis string bisa menggunakan tunggal ('___') atau ganda (\"___\")\n",
        "\n",
        "print(\"tanda petik ganda dipakai jika terdapat tada petik tunggal ' didalam kalimat \\n\")\n",
        "\n",
        "print('tanda petik tunggal berfungsi sama dengan tanda petik ganda \" \\n')\n",
        "\n",
        "#namun tanda petik tidak bisa dipakai bersamaan \"....' atau '....\""
      ],
      "execution_count": 0,
      "outputs": [
        {
          "output_type": "stream",
          "text": [
            "tanda petik ganda dipakai jika terdapat tada petik tunggal ' didalam kalimat \n",
            "\n",
            "tanda petik tunggal berfungsi sama dengan tanda petik ganda \" \n",
            "\n"
          ],
          "name": "stdout"
        }
      ]
    },
    {
      "cell_type": "markdown",
      "metadata": {
        "id": "yJOZmepY-rBw",
        "colab_type": "text"
      },
      "source": [
        "**Ganti Baris**"
      ]
    },
    {
      "cell_type": "code",
      "metadata": {
        "id": "8yawcxbE-iOY",
        "colab_type": "code",
        "colab": {}
      },
      "source": [
        "#gunakan \\n untuk mengganti baris atau fungsi enter ganti baris\n",
        "\n",
        "print('gunakan  \\ n untuk ganti baris')\n"
      ],
      "execution_count": 0,
      "outputs": []
    },
    {
      "cell_type": "markdown",
      "metadata": {
        "id": "MtSvUz2I-8ob",
        "colab_type": "text"
      },
      "source": [
        "**Multi Line Code**"
      ]
    },
    {
      "cell_type": "code",
      "metadata": {
        "id": "RFPjqhVe-a_p",
        "colab_type": "code",
        "outputId": "5c7ab74c-49ca-4649-fd2f-b81ae7c79813",
        "colab": {
          "base_uri": "https://localhost:8080/",
          "height": 34
        }
      },
      "source": [
        "\"\"\"\n",
        "jika dalam satu baris perintah, penulisannya terlalu panjang\n",
        "kita bisa memisahkannya dalam baris berikutnya \n",
        "dengan menambahkan karakter ( \\ )\n",
        "kemudian tuliskan perintah berikutnya di bawahnya\n",
        "\"\"\"\n",
        "\n",
        "print(\"perintah ini \\\n",
        "menggunakan multi line code \\\n",
        "yang dieksekusi \\\n",
        "dalam satu perintah code\")"
      ],
      "execution_count": 0,
      "outputs": [
        {
          "output_type": "stream",
          "text": [
            "perintah ini menggunakan multi line code yang dieksekusi dalam satu perintah code\n"
          ],
          "name": "stdout"
        }
      ]
    },
    {
      "cell_type": "code",
      "metadata": {
        "id": "w92ZTiVp-VgF",
        "colab_type": "code",
        "colab": {}
      },
      "source": [
        ""
      ],
      "execution_count": 0,
      "outputs": []
    }
  ]
}