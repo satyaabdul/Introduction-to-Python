{
  "nbformat": 4,
  "nbformat_minor": 0,
  "metadata": {
    "colab": {
      "name": "1. Hello World.ipynb",
      "provenance": [],
      "include_colab_link": true
    },
    "kernelspec": {
      "name": "python3",
      "display_name": "Python 3"
    }
  },
  "cells": [
    {
      "cell_type": "markdown",
      "metadata": {
        "id": "view-in-github",
        "colab_type": "text"
      },
      "source": [
        "<a href=\"https://colab.research.google.com/github/satyaabdul/Introduction-to-Python/blob/master/1_Hello_World.ipynb\" target=\"_parent\"><img src=\"https://colab.research.google.com/assets/colab-badge.svg\" alt=\"Open In Colab\"/></a>"
      ]
    },
    {
      "cell_type": "markdown",
      "metadata": {
        "id": "TWzFM0tR9e4k"
      },
      "source": [
        "## **Selamat Datang di Kelas**\n",
        "\n",
        "#**\"Introduction to Python\"**"
      ]
    },
    {
      "cell_type": "code",
      "metadata": {
        "id": "rDqs0Xlsh7FK",
        "colab": {
          "base_uri": "https://localhost:8080/"
        },
        "outputId": "3cf59ef3-266f-43a2-b74e-0a17807e2d7c"
      },
      "source": [
        "\"\"\"\n",
        "Gunakan   \n",
        "\n",
        "print(\"String yang mau ditampilkan\")\n",
        "\n",
        "untuk menampilkan text \n",
        "String didalam tanda petik dua yang akan muncul \n",
        "\"\"\"\n",
        "\n",
        "\n",
        "print(\"Hello World...!\")"
      ],
      "execution_count": 1,
      "outputs": [
        {
          "output_type": "stream",
          "text": [
            "Hello World...!\n"
          ],
          "name": "stdout"
        }
      ]
    },
    {
      "cell_type": "markdown",
      "metadata": {
        "id": "76q-_Pfz9qzl"
      },
      "source": [
        "**Python Tips**\n",
        "\n"
      ]
    },
    {
      "cell_type": "markdown",
      "metadata": {
        "id": "IqklLeWd-dVQ"
      },
      "source": [
        "**Menulis Komentar**"
      ]
    },
    {
      "cell_type": "code",
      "metadata": {
        "id": "FuNOoPT4kDCG",
        "colab": {
          "base_uri": "https://localhost:8080/"
        },
        "outputId": "77d92f6c-5963-4d69-b7e0-775b91fa7d47"
      },
      "source": [
        "#membuat komentar di dalam baris kode \n",
        "#gunakan tanda pagar di awal kalimat untuk menandakan bahwa itu komentar dan tidak perlu ditabahkan tanda pagar di akhir kalimat\n",
        "#tanda pagar digunakan untuk \"Single Line\" comments\n",
        "\n",
        "print(\"kalimat di atas yang diawali dengan tanda # tidak akan dieksekusi\\n\")\n",
        "\n",
        "\n",
        "\"\"\"\n",
        "gunakan triple quotes / tiga tanda petik ganda untuk komentar \"Multi-line\"\n",
        "jika menggunakan format ini triple quotes perlu dituliskan di awal/atas dan akhir/bawah baris kode\n",
        "\"\"\"\n",
        "\n",
        "print('kalimat di atas yang diawali dan diakhiri \"\"\" tidak akan dieksekusi\\n')\n"
      ],
      "execution_count": 4,
      "outputs": [
        {
          "output_type": "stream",
          "text": [
            "kalimat di atas yang diawali dengan tanda # tidak akan dieksekusi\n",
            "\n",
            "kalimat di atas yang diawali dan diakhiri \"\"\" tidak akan dieksekusi\n",
            "\n"
          ],
          "name": "stdout"
        }
      ]
    },
    {
      "cell_type": "markdown",
      "metadata": {
        "id": "F6VAFvzK-wCd"
      },
      "source": [
        "**Quotes / Tanda Petik (Pada penulisan string)**"
      ]
    },
    {
      "cell_type": "code",
      "metadata": {
        "id": "CBv_cE3J7dJc",
        "colab": {
          "base_uri": "https://localhost:8080/"
        },
        "outputId": "fb8e3f71-948f-4948-de0d-f7ecb4eea49a"
      },
      "source": [
        "#untuk menulis strings kita bisa menggunakan tanda petik tunggal ('___') atau tanda petik ganda (\"___\")\n",
        "\n",
        "print(\"kalau di dalam kalimat ada 'tanda petik tunggal' gunakan petik ganda pada kode\\n\")\n",
        "\n",
        "print('kalau di dalam kalimat ada \"tanda petik ganda\" gunakan petik tunggal pada kode\\n')\n",
        "\n",
        "#tetapi jangan gunakan awal petik tunggal akhir petik ganda '___\" "
      ],
      "execution_count": 5,
      "outputs": [
        {
          "output_type": "stream",
          "text": [
            "kalau di dalam kalimat ada 'tanda petik tunggal' gunakan petik ganda pada kode\n",
            "\n",
            "kalau di dalam kalimat ada \"tanda petik ganda\" gunakan petik tunggal pada kode\n",
            "\n"
          ],
          "name": "stdout"
        }
      ]
    },
    {
      "cell_type": "markdown",
      "metadata": {
        "id": "yJOZmepY-rBw"
      },
      "source": [
        "**Menampilkan String di Baris baru**\n"
      ]
    },
    {
      "cell_type": "code",
      "metadata": {
        "id": "8yawcxbE-iOY",
        "colab": {
          "base_uri": "https://localhost:8080/"
        },
        "outputId": "ed27a03f-411a-45ef-fd22-e3005b701248"
      },
      "source": [
        "#Gunakan \\n untuk menampilkan string di baris baru\n",
        "\n",
        "print('ini \\ndipakai untuk \\nmenampilkan string \\ndi baris baru')\n",
        "\n",
        "#there are 3 line "
      ],
      "execution_count": 7,
      "outputs": [
        {
          "output_type": "stream",
          "text": [
            "ini \n",
            "dipakai untuk \n",
            "menampilkan string \n",
            "di baris baru\n"
          ],
          "name": "stdout"
        }
      ]
    },
    {
      "cell_type": "markdown",
      "metadata": {
        "id": "MtSvUz2I-8ob"
      },
      "source": [
        "**Multi-line Code**"
      ]
    },
    {
      "cell_type": "code",
      "metadata": {
        "id": "RFPjqhVe-a_p",
        "colab": {
          "base_uri": "https://localhost:8080/"
        },
        "outputId": "724ec958-9b25-45ab-a031-026edcd4e52c"
      },
      "source": [
        "\"\"\"\n",
        "Mau nulis stirng panjang yang bikin pusing?\n",
        "tulis aja dibawahnya biar gak pusing bacanya\n",
        "caranya pisah dengan garis miring di akhir kata jika sudah terlalu panjang\n",
        "\"\"\"\n",
        "\n",
        "print(\"Kalimat ini \\\n",
        "menggunakan multi-line code \\\n",
        "yang dieksekusi \\\n",
        "sebagai satu baris saja\")"
      ],
      "execution_count": 8,
      "outputs": [
        {
          "output_type": "stream",
          "text": [
            "Kalimat ini menggunakan multi-line code yang dieksekusi sebagai satu baris saja\n"
          ],
          "name": "stdout"
        }
      ]
    },
    {
      "cell_type": "markdown",
      "metadata": {
        "id": "cUXmH3IGuboA"
      },
      "source": [
        "**Happy Learning**"
      ]
    },
    {
      "cell_type": "markdown",
      "metadata": {
        "id": "bfhy_ZE5uu7y"
      },
      "source": [
        "Contributor : Satya Abdul Halim B"
      ]
    }
  ]
}