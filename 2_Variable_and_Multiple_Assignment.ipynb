{
  "nbformat": 4,
  "nbformat_minor": 0,
  "metadata": {
    "colab": {
      "name": "2. Variable and Multiple Assignment.ipynb",
      "provenance": [],
      "authorship_tag": "ABX9TyNPxbbAMAZC0B7uGEeGopFA",
      "include_colab_link": true
    },
    "kernelspec": {
      "name": "python3",
      "display_name": "Python 3"
    }
  },
  "cells": [
    {
      "cell_type": "markdown",
      "metadata": {
        "id": "view-in-github",
        "colab_type": "text"
      },
      "source": [
        "<a href=\"https://colab.research.google.com/github/satyaabdul/Introduction-to-Python/blob/master/2_Variable_and_Multiple_Assignment.ipynb\" target=\"_parent\"><img src=\"https://colab.research.google.com/assets/colab-badge.svg\" alt=\"Open In Colab\"/></a>"
      ]
    },
    {
      "cell_type": "code",
      "metadata": {
        "id": "5PxsteFOBrG2",
        "colab_type": "code",
        "colab": {
          "base_uri": "https://localhost:8080/",
          "height": 34
        },
        "outputId": "0d697eff-5285-401a-cb50-de1f926456b8"
      },
      "source": [
        "#memasukan data string ke variabel menggunakan tanda petik \"...\"  \n",
        "nama = \"Satya\"\n",
        "\n",
        "#untuk menampilkannya cukup ketik nama variabel\n",
        "nama"
      ],
      "execution_count": 3,
      "outputs": [
        {
          "output_type": "execute_result",
          "data": {
            "text/plain": [
              "'Satya'"
            ]
          },
          "metadata": {
            "tags": []
          },
          "execution_count": 3
        }
      ]
    },
    {
      "cell_type": "code",
      "metadata": {
        "id": "ubX7C-AIWMNx",
        "colab_type": "code",
        "colab": {
          "base_uri": "https://localhost:8080/",
          "height": 34
        },
        "outputId": "4727c64c-e66e-4623-9eb1-3e287006de2f"
      },
      "source": [
        "#memasukan nilai integer tidak perlu menggunakan tanda petik\n",
        "umur = 25\n",
        "\n",
        "#untuk menampilkannya cukup ketik nama variabel\n",
        "umur"
      ],
      "execution_count": 4,
      "outputs": [
        {
          "output_type": "execute_result",
          "data": {
            "text/plain": [
              "25"
            ]
          },
          "metadata": {
            "tags": []
          },
          "execution_count": 4
        }
      ]
    },
    {
      "cell_type": "code",
      "metadata": {
        "id": "cd3aS6cLWpJW",
        "colab_type": "code",
        "colab": {}
      },
      "source": [
        "#kita bisa memasukan nilai yang berbeda dalam berberapa variable secara bersamaan\n",
        "nama1,nama2,nama3 = \"Abdul\",\"Halim\",\"Bahtiar\"\n"
      ],
      "execution_count": 0,
      "outputs": []
    },
    {
      "cell_type": "code",
      "metadata": {
        "id": "yk_fRGGUa9ZA",
        "colab_type": "code",
        "colab": {
          "base_uri": "https://localhost:8080/",
          "height": 34
        },
        "outputId": "20155cfe-9f0b-4049-ae73-291dc5ad1d11"
      },
      "source": [
        "#variable 1\n",
        "nama1"
      ],
      "execution_count": 12,
      "outputs": [
        {
          "output_type": "execute_result",
          "data": {
            "text/plain": [
              "'Abdul'"
            ]
          },
          "metadata": {
            "tags": []
          },
          "execution_count": 12
        }
      ]
    },
    {
      "cell_type": "code",
      "metadata": {
        "id": "N4sUYYFAa-8X",
        "colab_type": "code",
        "colab": {
          "base_uri": "https://localhost:8080/",
          "height": 34
        },
        "outputId": "1e48fb4a-a31f-410e-f882-445273ce5ccf"
      },
      "source": [
        "#variable 2\n",
        "nama2"
      ],
      "execution_count": 15,
      "outputs": [
        {
          "output_type": "execute_result",
          "data": {
            "text/plain": [
              "'Halim'"
            ]
          },
          "metadata": {
            "tags": []
          },
          "execution_count": 15
        }
      ]
    },
    {
      "cell_type": "code",
      "metadata": {
        "id": "PMhkU1qHbAPg",
        "colab_type": "code",
        "colab": {
          "base_uri": "https://localhost:8080/",
          "height": 34
        },
        "outputId": "7afa2a2f-be1a-4002-d713-7713bd1ff46f"
      },
      "source": [
        "#variable 3\n",
        "nama3"
      ],
      "execution_count": 14,
      "outputs": [
        {
          "output_type": "execute_result",
          "data": {
            "text/plain": [
              "'Bahtiar'"
            ]
          },
          "metadata": {
            "tags": []
          },
          "execution_count": 14
        }
      ]
    },
    {
      "cell_type": "code",
      "metadata": {
        "id": "S1arcggLkPFQ",
        "colab_type": "code",
        "colab": {}
      },
      "source": [
        "# jika nilai dalam berberapa variable sama bisa dimasukan dengancara seperti ini\n",
        "\n",
        "umur1 = umur2 = umur3 = 24"
      ],
      "execution_count": 0,
      "outputs": []
    },
    {
      "cell_type": "code",
      "metadata": {
        "id": "21eebygikf-n",
        "colab_type": "code",
        "colab": {
          "base_uri": "https://localhost:8080/",
          "height": 34
        },
        "outputId": "80e96a50-f638-4696-cbdf-162766527093"
      },
      "source": [
        "#variable 1\n",
        "umur1"
      ],
      "execution_count": 20,
      "outputs": [
        {
          "output_type": "execute_result",
          "data": {
            "text/plain": [
              "24"
            ]
          },
          "metadata": {
            "tags": []
          },
          "execution_count": 20
        }
      ]
    },
    {
      "cell_type": "code",
      "metadata": {
        "id": "lHOaW7CRkp-u",
        "colab_type": "code",
        "colab": {
          "base_uri": "https://localhost:8080/",
          "height": 34
        },
        "outputId": "c8a0dd33-46d0-4db8-9b82-ce41776006c7"
      },
      "source": [
        "#variable 2\n",
        "umur2"
      ],
      "execution_count": 21,
      "outputs": [
        {
          "output_type": "execute_result",
          "data": {
            "text/plain": [
              "24"
            ]
          },
          "metadata": {
            "tags": []
          },
          "execution_count": 21
        }
      ]
    },
    {
      "cell_type": "code",
      "metadata": {
        "id": "d5arP29Akrf-",
        "colab_type": "code",
        "colab": {
          "base_uri": "https://localhost:8080/",
          "height": 34
        },
        "outputId": "2b6feb0c-18c9-4ba1-a172-2e8c97810b39"
      },
      "source": [
        "#variable 3\n",
        "umur3"
      ],
      "execution_count": 22,
      "outputs": [
        {
          "output_type": "execute_result",
          "data": {
            "text/plain": [
              "24"
            ]
          },
          "metadata": {
            "tags": []
          },
          "execution_count": 22
        }
      ]
    },
    {
      "cell_type": "code",
      "metadata": {
        "id": "817sLMV1jmPy",
        "colab_type": "code",
        "colab": {
          "base_uri": "https://localhost:8080/",
          "height": 34
        },
        "outputId": "ef4da822-4853-4b67-e063-1380f7901b06"
      },
      "source": [
        "#variable yang dipanggil dalam baris yang berbeda hanya variable terakhir yang muncul\n",
        "\n",
        "nama1\n",
        "nama2"
      ],
      "execution_count": 16,
      "outputs": [
        {
          "output_type": "execute_result",
          "data": {
            "text/plain": [
              "'Halim'"
            ]
          },
          "metadata": {
            "tags": []
          },
          "execution_count": 16
        }
      ]
    },
    {
      "cell_type": "code",
      "metadata": {
        "id": "mtPQVDztj-I2",
        "colab_type": "code",
        "colab": {
          "base_uri": "https://localhost:8080/",
          "height": 34
        },
        "outputId": "cb1cb190-94d0-4d98-adda-26cac6f12245"
      },
      "source": [
        "#memanggil variable lebih dari satu dilakuakn dalam satu baris dan dipisahkan koma\n",
        "\n",
        "nama, nama1"
      ],
      "execution_count": 17,
      "outputs": [
        {
          "output_type": "execute_result",
          "data": {
            "text/plain": [
              "('Satya', 'Abdul')"
            ]
          },
          "metadata": {
            "tags": []
          },
          "execution_count": 17
        }
      ]
    },
    {
      "cell_type": "code",
      "metadata": {
        "id": "jiZ0uKkBkJs2",
        "colab_type": "code",
        "colab": {
          "base_uri": "https://localhost:8080/",
          "height": 34
        },
        "outputId": "8ba442f0-14df-4ac4-f098-1558c3a3011a"
      },
      "source": [
        "#print varibael\n",
        "#gunakan huruf 'f' di depan tanda petik untuk memasukan variable dalam perintah print\n",
        "#nama variable diletakkan dalam tanda {nama_varible}\n",
        "\n",
        "print(f\"Nama saya {nama}, umur saya {umur} tahun\" )"
      ],
      "execution_count": 30,
      "outputs": [
        {
          "output_type": "stream",
          "text": [
            "Nama saya Satya, umur saya 25 tahun\n"
          ],
          "name": "stdout"
        }
      ]
    }
  ]
}